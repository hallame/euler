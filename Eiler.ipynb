{
 "cells": [
  {
   "cell_type": "code",
   "execution_count": 19,
   "id": "515b9bb8",
   "metadata": {},
   "outputs": [],
   "source": [
    "def dfs(u, graph, visited_edge, path=[]):\n",
    "    path = path + [u]\n",
    "                                       \n",
    " # Path finding\n",
    "                                                                    # v is the current vertex. u - the vertex you are invited to visit\n",
    "    for v in graph[u]:                                              # iterating you over adjacent vertices\n",
    "        if visited_edge[u][v] == False:                             # if there has not been a passage along the edge yet\n",
    "            visited_edge[u][v], visited_edge[v][u] = True, True     # we make a pass along the edge (we mark in both directions)\n",
    "            path = dfs(v, graph, visited_edge, path)                # adding an edge to the path\n",
    "    return path\n",
    "\n",
    "\n",
    "\n",
    "\n",
    "# Checking for the presence of an Eulerian cycle or path in a graph based on the parity of degrees of vertices\n",
    "\n",
    "def check_path_or_circuit(graph, nber_node):                                   # nber: number of node in the graph\n",
    "    odd_degree_nodes = 0\n",
    "    odd_node = -1\n",
    "    for i in range(nber_node):\n",
    "        if i not in graph.keys():\n",
    "            continue\n",
    "        if len(graph[i]) % 2 == 1:                                              # parity check\n",
    "            odd_degree_nodes += 1\n",
    "            odd_node = i\n",
    "    print(f\"Contains {odd_degree_nodes} nodes with odd degrees\")\n",
    "    if odd_degree_nodes == 0:\n",
    "        return 1, odd_node\n",
    "    if odd_degree_nodes == 2:\n",
    "        return 2, odd_node                                                        #  return 2 to exit code for when i=number_nodes \n",
    "    return 3, odd_node                                                            # return 3 to exit value for the end\n",
    "\n",
    "\n",
    "def check_euler(graph, nber_node):\n",
    "    visited_edge = [[False for _ in range(nber_node + 1)] for _ in range(nber_node + 1)]\n",
    "    check, odd_node = check_path_or_circuit(graph, nber_node)\n",
    "    \n",
    "    if check == 3:\n",
    "        print(\"There is no Euler cycle in the graph\")\n",
    "        return\n",
    "    \n",
    "    start_node = 11\n",
    "    if check == 2:\n",
    "        start_node = odd_node\n",
    "        print(\"There is no Euler cycle in the graph, but there is an Euler path\")\n",
    "        \n",
    "    if check == 1:\n",
    "        print(\"The graph is Eulerian\")\n",
    "        \n",
    "    path = dfs(start_node, graph, visited_edge)\n",
    "    \n",
    "    print(path)"
   ]
  },
  {
   "cell_type": "code",
   "execution_count": 20,
   "id": "e2fd4a69",
   "metadata": {},
   "outputs": [
    {
     "name": "stdout",
     "output_type": "stream",
     "text": [
      "Contains 0 nodes with odd degrees\n",
      "The graph is Eulerian\n",
      "[11, 5, 1, 2, 4, 3, 1, 7, 2, 6, 4, 8, 3, 5, 9, 7, 10, 6, 12, 8, 11, 9, 10, 12, 11]\n"
     ]
    }
   ],
   "source": [
    "G = {\n",
    "    1: [2, 3, 5, 7],\n",
    "    2: [1, 4, 6, 7],\n",
    "    3: [1, 4, 5, 8],\n",
    "    4: [2, 3, 6, 8],\n",
    "    5: [1, 3, 9, 11],\n",
    "    6: [2, 4, 10, 12],\n",
    "    7: [1, 2, 9, 10],\n",
    "    8: [3, 4, 11, 12],\n",
    "    9: [5, 7, 10, 11],\n",
    "    10: [6, 7, 9, 12],\n",
    "    11: [5, 8, 9, 12],\n",
    "    12: [6, 8, 10, 11],\n",
    "    \n",
    "    \n",
    "     }\n",
    "nber_node = 12\n",
    "check_euler(G, nber_node)"
   ]
  },
  {
   "cell_type": "code",
   "execution_count": null,
   "id": "495826cc",
   "metadata": {},
   "outputs": [],
   "source": []
  }
 ],
 "metadata": {
  "kernelspec": {
   "display_name": "Python 3 (ipykernel)",
   "language": "python",
   "name": "python3"
  },
  "language_info": {
   "codemirror_mode": {
    "name": "ipython",
    "version": 3
   },
   "file_extension": ".py",
   "mimetype": "text/x-python",
   "name": "python",
   "nbconvert_exporter": "python",
   "pygments_lexer": "ipython3",
   "version": "3.10.7"
  }
 },
 "nbformat": 4,
 "nbformat_minor": 5
}
